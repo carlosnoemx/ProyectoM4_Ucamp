{
  "nbformat": 4,
  "nbformat_minor": 0,
  "metadata": {
    "colab": {
      "provenance": []
    },
    "kernelspec": {
      "name": "python3",
      "display_name": "Python 3"
    },
    "language_info": {
      "name": "python"
    }
  },
  "cells": [
    {
      "cell_type": "markdown",
      "source": [
        "## Bootcamp: Ciencia de Datos e Inteligencia Artificial\n",
        "## Proyecto del Módulo 4: Modelado no supervisado en Machine Learning\n",
        "¡Hola, qué gusto que estés a un paso de obtener tu insignia del módulo 4! Aquí pondrás en juego las habilidades y conocimientos que has practicado a lo largo de estas semanas.\n",
        "\n",
        "Lee el caso y revisa con cuidado cada una de las instrucciones. Procura plasmar todo tu potencial para que concluyas tu proyecto de manera exitosa.\n",
        "\n",
        "¡Éxito!"
      ],
      "metadata": {
        "id": "D2O6tBSaG7n9"
      }
    },
    {
      "cell_type": "markdown",
      "source": [
        "## Objetivos\n",
        "- Diseñarás y aplicarás un modelo de *clustering*.\n",
        "- Indicarás la cantidad óptima de grupos dado un conjunto que se te proporcionará.\n",
        "- Generarás visualizaciones para *clustering* y método del codo.\n",
        "- Usarás por lo menos un índice de desempeño para evaluar el modelo.\n"
      ],
      "metadata": {
        "id": "3y3iUVdfVkVB"
      }
    },
    {
      "cell_type": "markdown",
      "source": [
        "## Criterios de evaluación\n",
        "\n",
        "Modelar el *clustering* correctamente:\n",
        "- Determinar el número máximo de *clusters* y aplicar PCA (**2 puntos**).\n",
        "- Hacer el diagrama de codo (**2 puntos**); si no tiene títulos, leyendas y etiquetas, solo tendrás **1 punto**.\n",
        "- Seleccionar y entrenar modelo (**2 puntos**); si no tiene títulos, leyendas y etiquetas, solo tendrás **1 punto**.\n",
        "- Generar la visualización de datos con un diseño personalizado y agregar títulos y leyendas (**2 puntos**).\n",
        "- Evaluar el desempeño aplicado y explicar el modelo, la gráfica y el uso de datos a una persona que no es científica de datos (**2 puntos**). Si las explicaciones son dudosas, equivocadas o sin comentarios suficientes, solo tendrás **1 punto**.\n",
        "\n",
        "**Punto extra**\n",
        "- Si aplicas el mismo modelo que ya creaste en los nuevos 50 registros, obtendrás **1 punto** extra.\n",
        " **Nota:** No debes realizar un nuevo modelo, sino aplicar el ya hecho.\n",
        "- Si estos nuevos 50 registros se agregan a los registros previos con los que diseñaste la primera gráfica, tendrás **1 punto** extra. Puedes diferenciarlos cambiándoles la forma, color o tamaño; así resaltarán más. Este punto no es válido si la grafica no tiene títulos, etiquetas y leyendas."
      ],
      "metadata": {
        "id": "9fUrQEi7VyxR"
      }
    },
    {
      "cell_type": "markdown",
      "source": [
        "## Caso de estudio\n",
        "\n",
        "Una empresa financiera tiene un nuevo producto dirigido a sus clientes con diferentes límites de crédito, por ello, es necesario dividir a los clientes en grupos más pequeños.\n",
        "\n",
        "Desafortunadamente, los directivos no tienen idea de cuál es la cantidad óptima en la que se puede segregar a los clientes y cómo dirigir a nuevos clientes a esos grupos.\n",
        "\n",
        "Es por eso que en este punto se te ha contratado. Para poder ejecutar tu trabajo te han compartido una base de datos que contiene las características que, según sus informes, son los más importantes para la aplicación de este programa. Consiste en seis puntos:\n",
        "- **Salario mensual:** indica el ingreso mensual del cliente en pesos mexicanos.\n",
        "- **Crédito tipo 1:** es un producto financiero que el cliente ha obtenido de la institución financiera; `1` significa que tiene este producto y `0` que no cuenta con él.\n",
        "- **Crédito tipo 2:** es similar a las características del anterior; `1` significa que cuenta con el producto y `0` que no.\n",
        "- **Límite de TC:** indica el límite de crédito de la tarjeta del cliente.\n",
        "- **Años siendo cliente:** corresponde al tiempo que el cliente ha tenido una relación comercial con la institución financiera.\n",
        "- **Previamente se ofreció el producto:** es la versión previa del producto e indica si el cliente se mostró interesado en obtenerlo (`1`) o no (`0`).\n",
        "\n",
        "El archivo puede ser descargado aquí: https://drive.google.com/file/d/1wcjPCZPTMuDlyWcE1Do4-yqU5AglW_p9/view?usp=sharing\n",
        "\n",
        "### Observaciones\n",
        "\n",
        "El cliente requiere que le indiques la cantidad óptima de grupos en los que deberás catalogar a sus clientes. Para ello, usa el método del codo y grafícalo. Recuerda que tus clientes necesitan apoyos visuales.\n",
        "\n",
        "Una vez que tengas la cantidad de grupos óptimos, deberás aplicar un método de *clustering*. El cliente solicita que le muestres gráficamente cómo están organizados los clientes. Para ello, usa una gráfica de dispersión o la que creas más conveniente.\n",
        "\n",
        "Incluye, por lo menos, un índice de desempeño (*scoring*) para complementar tus análisis.\n",
        "\n",
        "Tus visualizaciones deberán tener título y estar presentables. Puedes usar **Pyplot** o **Seaborn**.\n",
        "\n",
        "Deberás escribir un texto explicando qué representa tu análisis. Usa un lenguaje que vaya dirigido a personas que no saben de ciencia de datos o matemáticas, esto es muy común en la realidad. Deberás hablar de tu gráfica, tus resultados y el manejo de la información, así como del beneficio de usar tu modelo.\n",
        "\n",
        "Como reto adicional se te proprocionará un archivo en la liga siguiente: https://drive.google.com/file/d/1Nkoc-6AeC3Vzy7gfCNB_DlWTs4dXz7Ug/view?usp=sharing, la cual incluye 50 clientes más. Deberás aplicar el método que usaste para entrenar con tu primer modelo y aplicarlo en estos nuevos clientes. No olvides graficarlos (solo a los nuevos 50 clientes).\n"
      ],
      "metadata": {
        "id": "oqiTO07ezogm"
      }
    },
    {
      "cell_type": "markdown",
      "source": [
        "¡Éxito! Te vemos en el contenido del siguiente módulo."
      ],
      "metadata": {
        "id": "_T_z68Hcy6fA"
      }
    },
    {
      "cell_type": "code",
      "source": [
        "import pandas as pd\n",
        "import numpy as np\n",
        "import matplotlib.pyplot as plt\n",
        "from sklearn.decomposition import PCA\n",
        "from sklearn.cluster import AgglomerativeClustering\n",
        "from yellowbrick.cluster import KElbowVisualizer  # Para visualizar el número óptimo de clusters\n",
        "from sklearn.cluster import KMeans\n"
      ],
      "metadata": {
        "id": "vtzIkgm0Gj84"
      },
      "execution_count": null,
      "outputs": []
    },
    {
      "cell_type": "code",
      "source": [
        "df = pd.read_csv('/content/costumers.csv')\n",
        "df.head()"
      ],
      "metadata": {
        "colab": {
          "base_uri": "https://localhost:8080/",
          "height": 206
        },
        "id": "344Op00rI2qT",
        "outputId": "1c6acd6d-a118-4df8-b0aa-ed1812b96873"
      },
      "execution_count": null,
      "outputs": [
        {
          "output_type": "execute_result",
          "data": {
            "text/plain": [
              "    Salario  Credito_tipo_1  Credito_tipo_2  Limite_TC  Tiempo_cliente  \\\n",
              "0  22572.91               1               0   30136.74             0.0   \n",
              "1  10609.64               1               1   53623.94             0.0   \n",
              "2  10079.48               0               1   18135.44             0.0   \n",
              "3  13871.35               1               0   30831.75             0.0   \n",
              "4   6541.46               0               1   20626.23             0.0   \n",
              "\n",
              "   Producto_ofrecido  \n",
              "0                  1  \n",
              "1                  1  \n",
              "2                  0  \n",
              "3                  1  \n",
              "4                  0  "
            ],
            "text/html": [
              "\n",
              "  <div id=\"df-d63842b9-6277-4f81-bd47-0b76f0d92738\">\n",
              "    <div class=\"colab-df-container\">\n",
              "      <div>\n",
              "<style scoped>\n",
              "    .dataframe tbody tr th:only-of-type {\n",
              "        vertical-align: middle;\n",
              "    }\n",
              "\n",
              "    .dataframe tbody tr th {\n",
              "        vertical-align: top;\n",
              "    }\n",
              "\n",
              "    .dataframe thead th {\n",
              "        text-align: right;\n",
              "    }\n",
              "</style>\n",
              "<table border=\"1\" class=\"dataframe\">\n",
              "  <thead>\n",
              "    <tr style=\"text-align: right;\">\n",
              "      <th></th>\n",
              "      <th>Salario</th>\n",
              "      <th>Credito_tipo_1</th>\n",
              "      <th>Credito_tipo_2</th>\n",
              "      <th>Limite_TC</th>\n",
              "      <th>Tiempo_cliente</th>\n",
              "      <th>Producto_ofrecido</th>\n",
              "    </tr>\n",
              "  </thead>\n",
              "  <tbody>\n",
              "    <tr>\n",
              "      <th>0</th>\n",
              "      <td>22572.91</td>\n",
              "      <td>1</td>\n",
              "      <td>0</td>\n",
              "      <td>30136.74</td>\n",
              "      <td>0.0</td>\n",
              "      <td>1</td>\n",
              "    </tr>\n",
              "    <tr>\n",
              "      <th>1</th>\n",
              "      <td>10609.64</td>\n",
              "      <td>1</td>\n",
              "      <td>1</td>\n",
              "      <td>53623.94</td>\n",
              "      <td>0.0</td>\n",
              "      <td>1</td>\n",
              "    </tr>\n",
              "    <tr>\n",
              "      <th>2</th>\n",
              "      <td>10079.48</td>\n",
              "      <td>0</td>\n",
              "      <td>1</td>\n",
              "      <td>18135.44</td>\n",
              "      <td>0.0</td>\n",
              "      <td>0</td>\n",
              "    </tr>\n",
              "    <tr>\n",
              "      <th>3</th>\n",
              "      <td>13871.35</td>\n",
              "      <td>1</td>\n",
              "      <td>0</td>\n",
              "      <td>30831.75</td>\n",
              "      <td>0.0</td>\n",
              "      <td>1</td>\n",
              "    </tr>\n",
              "    <tr>\n",
              "      <th>4</th>\n",
              "      <td>6541.46</td>\n",
              "      <td>0</td>\n",
              "      <td>1</td>\n",
              "      <td>20626.23</td>\n",
              "      <td>0.0</td>\n",
              "      <td>0</td>\n",
              "    </tr>\n",
              "  </tbody>\n",
              "</table>\n",
              "</div>\n",
              "      <button class=\"colab-df-convert\" onclick=\"convertToInteractive('df-d63842b9-6277-4f81-bd47-0b76f0d92738')\"\n",
              "              title=\"Convert this dataframe to an interactive table.\"\n",
              "              style=\"display:none;\">\n",
              "        \n",
              "  <svg xmlns=\"http://www.w3.org/2000/svg\" height=\"24px\"viewBox=\"0 0 24 24\"\n",
              "       width=\"24px\">\n",
              "    <path d=\"M0 0h24v24H0V0z\" fill=\"none\"/>\n",
              "    <path d=\"M18.56 5.44l.94 2.06.94-2.06 2.06-.94-2.06-.94-.94-2.06-.94 2.06-2.06.94zm-11 1L8.5 8.5l.94-2.06 2.06-.94-2.06-.94L8.5 2.5l-.94 2.06-2.06.94zm10 10l.94 2.06.94-2.06 2.06-.94-2.06-.94-.94-2.06-.94 2.06-2.06.94z\"/><path d=\"M17.41 7.96l-1.37-1.37c-.4-.4-.92-.59-1.43-.59-.52 0-1.04.2-1.43.59L10.3 9.45l-7.72 7.72c-.78.78-.78 2.05 0 2.83L4 21.41c.39.39.9.59 1.41.59.51 0 1.02-.2 1.41-.59l7.78-7.78 2.81-2.81c.8-.78.8-2.07 0-2.86zM5.41 20L4 18.59l7.72-7.72 1.47 1.35L5.41 20z\"/>\n",
              "  </svg>\n",
              "      </button>\n",
              "      \n",
              "  <style>\n",
              "    .colab-df-container {\n",
              "      display:flex;\n",
              "      flex-wrap:wrap;\n",
              "      gap: 12px;\n",
              "    }\n",
              "\n",
              "    .colab-df-convert {\n",
              "      background-color: #E8F0FE;\n",
              "      border: none;\n",
              "      border-radius: 50%;\n",
              "      cursor: pointer;\n",
              "      display: none;\n",
              "      fill: #1967D2;\n",
              "      height: 32px;\n",
              "      padding: 0 0 0 0;\n",
              "      width: 32px;\n",
              "    }\n",
              "\n",
              "    .colab-df-convert:hover {\n",
              "      background-color: #E2EBFA;\n",
              "      box-shadow: 0px 1px 2px rgba(60, 64, 67, 0.3), 0px 1px 3px 1px rgba(60, 64, 67, 0.15);\n",
              "      fill: #174EA6;\n",
              "    }\n",
              "\n",
              "    [theme=dark] .colab-df-convert {\n",
              "      background-color: #3B4455;\n",
              "      fill: #D2E3FC;\n",
              "    }\n",
              "\n",
              "    [theme=dark] .colab-df-convert:hover {\n",
              "      background-color: #434B5C;\n",
              "      box-shadow: 0px 1px 3px 1px rgba(0, 0, 0, 0.15);\n",
              "      filter: drop-shadow(0px 1px 2px rgba(0, 0, 0, 0.3));\n",
              "      fill: #FFFFFF;\n",
              "    }\n",
              "  </style>\n",
              "\n",
              "      <script>\n",
              "        const buttonEl =\n",
              "          document.querySelector('#df-d63842b9-6277-4f81-bd47-0b76f0d92738 button.colab-df-convert');\n",
              "        buttonEl.style.display =\n",
              "          google.colab.kernel.accessAllowed ? 'block' : 'none';\n",
              "\n",
              "        async function convertToInteractive(key) {\n",
              "          const element = document.querySelector('#df-d63842b9-6277-4f81-bd47-0b76f0d92738');\n",
              "          const dataTable =\n",
              "            await google.colab.kernel.invokeFunction('convertToInteractive',\n",
              "                                                     [key], {});\n",
              "          if (!dataTable) return;\n",
              "\n",
              "          const docLinkHtml = 'Like what you see? Visit the ' +\n",
              "            '<a target=\"_blank\" href=https://colab.research.google.com/notebooks/data_table.ipynb>data table notebook</a>'\n",
              "            + ' to learn more about interactive tables.';\n",
              "          element.innerHTML = '';\n",
              "          dataTable['output_type'] = 'display_data';\n",
              "          await google.colab.output.renderOutput(dataTable, element);\n",
              "          const docLink = document.createElement('div');\n",
              "          docLink.innerHTML = docLinkHtml;\n",
              "          element.appendChild(docLink);\n",
              "        }\n",
              "      </script>\n",
              "    </div>\n",
              "  </div>\n",
              "  "
            ]
          },
          "metadata": {},
          "execution_count": 33
        }
      ]
    },
    {
      "cell_type": "code",
      "source": [
        "df.describe().T"
      ],
      "metadata": {
        "colab": {
          "base_uri": "https://localhost:8080/",
          "height": 238
        },
        "id": "xzcfS6mDJNHy",
        "outputId": "4fb53f2f-187e-4512-f40a-91b97f4d6b67"
      },
      "execution_count": null,
      "outputs": [
        {
          "output_type": "execute_result",
          "data": {
            "text/plain": [
              "                   count         mean           std       min        25%  \\\n",
              "Salario            500.0  12089.09738   5123.700116  -2911.65   8534.350   \n",
              "Credito_tipo_1     500.0      0.61000      0.488238      0.00      0.000   \n",
              "Credito_tipo_2     500.0      0.45800      0.498732      0.00      0.000   \n",
              "Limite_TC          500.0  44784.55496  22150.923996 -22207.95  30096.285   \n",
              "Tiempo_cliente     500.0      4.32700      4.784776      0.00      0.000   \n",
              "Producto_ofrecido  500.0      0.60200      0.489976      0.00      0.000   \n",
              "\n",
              "                         50%         75%        max  \n",
              "Salario            11438.600  15171.4675   30041.40  \n",
              "Credito_tipo_1         1.000      1.0000       1.00  \n",
              "Credito_tipo_2         0.000      1.0000       1.00  \n",
              "Limite_TC          47991.515  59108.1750  118636.82  \n",
              "Tiempo_cliente         0.000      8.4000      19.30  \n",
              "Producto_ofrecido      1.000      1.0000       1.00  "
            ],
            "text/html": [
              "\n",
              "  <div id=\"df-bc3eba11-14d9-4efa-8396-51e3dd01d801\">\n",
              "    <div class=\"colab-df-container\">\n",
              "      <div>\n",
              "<style scoped>\n",
              "    .dataframe tbody tr th:only-of-type {\n",
              "        vertical-align: middle;\n",
              "    }\n",
              "\n",
              "    .dataframe tbody tr th {\n",
              "        vertical-align: top;\n",
              "    }\n",
              "\n",
              "    .dataframe thead th {\n",
              "        text-align: right;\n",
              "    }\n",
              "</style>\n",
              "<table border=\"1\" class=\"dataframe\">\n",
              "  <thead>\n",
              "    <tr style=\"text-align: right;\">\n",
              "      <th></th>\n",
              "      <th>count</th>\n",
              "      <th>mean</th>\n",
              "      <th>std</th>\n",
              "      <th>min</th>\n",
              "      <th>25%</th>\n",
              "      <th>50%</th>\n",
              "      <th>75%</th>\n",
              "      <th>max</th>\n",
              "    </tr>\n",
              "  </thead>\n",
              "  <tbody>\n",
              "    <tr>\n",
              "      <th>Salario</th>\n",
              "      <td>500.0</td>\n",
              "      <td>12089.09738</td>\n",
              "      <td>5123.700116</td>\n",
              "      <td>-2911.65</td>\n",
              "      <td>8534.350</td>\n",
              "      <td>11438.600</td>\n",
              "      <td>15171.4675</td>\n",
              "      <td>30041.40</td>\n",
              "    </tr>\n",
              "    <tr>\n",
              "      <th>Credito_tipo_1</th>\n",
              "      <td>500.0</td>\n",
              "      <td>0.61000</td>\n",
              "      <td>0.488238</td>\n",
              "      <td>0.00</td>\n",
              "      <td>0.000</td>\n",
              "      <td>1.000</td>\n",
              "      <td>1.0000</td>\n",
              "      <td>1.00</td>\n",
              "    </tr>\n",
              "    <tr>\n",
              "      <th>Credito_tipo_2</th>\n",
              "      <td>500.0</td>\n",
              "      <td>0.45800</td>\n",
              "      <td>0.498732</td>\n",
              "      <td>0.00</td>\n",
              "      <td>0.000</td>\n",
              "      <td>0.000</td>\n",
              "      <td>1.0000</td>\n",
              "      <td>1.00</td>\n",
              "    </tr>\n",
              "    <tr>\n",
              "      <th>Limite_TC</th>\n",
              "      <td>500.0</td>\n",
              "      <td>44784.55496</td>\n",
              "      <td>22150.923996</td>\n",
              "      <td>-22207.95</td>\n",
              "      <td>30096.285</td>\n",
              "      <td>47991.515</td>\n",
              "      <td>59108.1750</td>\n",
              "      <td>118636.82</td>\n",
              "    </tr>\n",
              "    <tr>\n",
              "      <th>Tiempo_cliente</th>\n",
              "      <td>500.0</td>\n",
              "      <td>4.32700</td>\n",
              "      <td>4.784776</td>\n",
              "      <td>0.00</td>\n",
              "      <td>0.000</td>\n",
              "      <td>0.000</td>\n",
              "      <td>8.4000</td>\n",
              "      <td>19.30</td>\n",
              "    </tr>\n",
              "    <tr>\n",
              "      <th>Producto_ofrecido</th>\n",
              "      <td>500.0</td>\n",
              "      <td>0.60200</td>\n",
              "      <td>0.489976</td>\n",
              "      <td>0.00</td>\n",
              "      <td>0.000</td>\n",
              "      <td>1.000</td>\n",
              "      <td>1.0000</td>\n",
              "      <td>1.00</td>\n",
              "    </tr>\n",
              "  </tbody>\n",
              "</table>\n",
              "</div>\n",
              "      <button class=\"colab-df-convert\" onclick=\"convertToInteractive('df-bc3eba11-14d9-4efa-8396-51e3dd01d801')\"\n",
              "              title=\"Convert this dataframe to an interactive table.\"\n",
              "              style=\"display:none;\">\n",
              "        \n",
              "  <svg xmlns=\"http://www.w3.org/2000/svg\" height=\"24px\"viewBox=\"0 0 24 24\"\n",
              "       width=\"24px\">\n",
              "    <path d=\"M0 0h24v24H0V0z\" fill=\"none\"/>\n",
              "    <path d=\"M18.56 5.44l.94 2.06.94-2.06 2.06-.94-2.06-.94-.94-2.06-.94 2.06-2.06.94zm-11 1L8.5 8.5l.94-2.06 2.06-.94-2.06-.94L8.5 2.5l-.94 2.06-2.06.94zm10 10l.94 2.06.94-2.06 2.06-.94-2.06-.94-.94-2.06-.94 2.06-2.06.94z\"/><path d=\"M17.41 7.96l-1.37-1.37c-.4-.4-.92-.59-1.43-.59-.52 0-1.04.2-1.43.59L10.3 9.45l-7.72 7.72c-.78.78-.78 2.05 0 2.83L4 21.41c.39.39.9.59 1.41.59.51 0 1.02-.2 1.41-.59l7.78-7.78 2.81-2.81c.8-.78.8-2.07 0-2.86zM5.41 20L4 18.59l7.72-7.72 1.47 1.35L5.41 20z\"/>\n",
              "  </svg>\n",
              "      </button>\n",
              "      \n",
              "  <style>\n",
              "    .colab-df-container {\n",
              "      display:flex;\n",
              "      flex-wrap:wrap;\n",
              "      gap: 12px;\n",
              "    }\n",
              "\n",
              "    .colab-df-convert {\n",
              "      background-color: #E8F0FE;\n",
              "      border: none;\n",
              "      border-radius: 50%;\n",
              "      cursor: pointer;\n",
              "      display: none;\n",
              "      fill: #1967D2;\n",
              "      height: 32px;\n",
              "      padding: 0 0 0 0;\n",
              "      width: 32px;\n",
              "    }\n",
              "\n",
              "    .colab-df-convert:hover {\n",
              "      background-color: #E2EBFA;\n",
              "      box-shadow: 0px 1px 2px rgba(60, 64, 67, 0.3), 0px 1px 3px 1px rgba(60, 64, 67, 0.15);\n",
              "      fill: #174EA6;\n",
              "    }\n",
              "\n",
              "    [theme=dark] .colab-df-convert {\n",
              "      background-color: #3B4455;\n",
              "      fill: #D2E3FC;\n",
              "    }\n",
              "\n",
              "    [theme=dark] .colab-df-convert:hover {\n",
              "      background-color: #434B5C;\n",
              "      box-shadow: 0px 1px 3px 1px rgba(0, 0, 0, 0.15);\n",
              "      filter: drop-shadow(0px 1px 2px rgba(0, 0, 0, 0.3));\n",
              "      fill: #FFFFFF;\n",
              "    }\n",
              "  </style>\n",
              "\n",
              "      <script>\n",
              "        const buttonEl =\n",
              "          document.querySelector('#df-bc3eba11-14d9-4efa-8396-51e3dd01d801 button.colab-df-convert');\n",
              "        buttonEl.style.display =\n",
              "          google.colab.kernel.accessAllowed ? 'block' : 'none';\n",
              "\n",
              "        async function convertToInteractive(key) {\n",
              "          const element = document.querySelector('#df-bc3eba11-14d9-4efa-8396-51e3dd01d801');\n",
              "          const dataTable =\n",
              "            await google.colab.kernel.invokeFunction('convertToInteractive',\n",
              "                                                     [key], {});\n",
              "          if (!dataTable) return;\n",
              "\n",
              "          const docLinkHtml = 'Like what you see? Visit the ' +\n",
              "            '<a target=\"_blank\" href=https://colab.research.google.com/notebooks/data_table.ipynb>data table notebook</a>'\n",
              "            + ' to learn more about interactive tables.';\n",
              "          element.innerHTML = '';\n",
              "          dataTable['output_type'] = 'display_data';\n",
              "          await google.colab.output.renderOutput(dataTable, element);\n",
              "          const docLink = document.createElement('div');\n",
              "          docLink.innerHTML = docLinkHtml;\n",
              "          element.appendChild(docLink);\n",
              "        }\n",
              "      </script>\n",
              "    </div>\n",
              "  </div>\n",
              "  "
            ]
          },
          "metadata": {},
          "execution_count": 66
        }
      ]
    },
    {
      "cell_type": "code",
      "source": [
        "# Inicializa el modelo de KMeans\n",
        "modelo = KMeans()\n",
        "\n",
        "# Inicializa el visualizador de codo para determinar el número óptimo de clusters\n",
        "visualizer = KElbowVisualizer(modelo, k=(1, 11))\n",
        "\n",
        "# Ajusta el visualizador a los datos\n",
        "visualizer.fit(df)\n",
        "# Muestra el gráfico del visualizador\n",
        "visualizer.show()"
      ],
      "metadata": {
        "colab": {
          "base_uri": "https://localhost:8080/",
          "height": 909
        },
        "id": "_pbcoJdQZ9Ve",
        "outputId": "f9624b85-e1aa-48f4-820f-ed73ca5f8a20"
      },
      "execution_count": null,
      "outputs": [
        {
          "output_type": "stream",
          "name": "stderr",
          "text": [
            "/usr/local/lib/python3.10/dist-packages/sklearn/cluster/_kmeans.py:870: FutureWarning: The default value of `n_init` will change from 10 to 'auto' in 1.4. Set the value of `n_init` explicitly to suppress the warning\n",
            "  warnings.warn(\n",
            "/usr/local/lib/python3.10/dist-packages/sklearn/cluster/_kmeans.py:870: FutureWarning: The default value of `n_init` will change from 10 to 'auto' in 1.4. Set the value of `n_init` explicitly to suppress the warning\n",
            "  warnings.warn(\n",
            "/usr/local/lib/python3.10/dist-packages/sklearn/cluster/_kmeans.py:870: FutureWarning: The default value of `n_init` will change from 10 to 'auto' in 1.4. Set the value of `n_init` explicitly to suppress the warning\n",
            "  warnings.warn(\n",
            "/usr/local/lib/python3.10/dist-packages/sklearn/cluster/_kmeans.py:870: FutureWarning: The default value of `n_init` will change from 10 to 'auto' in 1.4. Set the value of `n_init` explicitly to suppress the warning\n",
            "  warnings.warn(\n",
            "/usr/local/lib/python3.10/dist-packages/sklearn/cluster/_kmeans.py:870: FutureWarning: The default value of `n_init` will change from 10 to 'auto' in 1.4. Set the value of `n_init` explicitly to suppress the warning\n",
            "  warnings.warn(\n",
            "/usr/local/lib/python3.10/dist-packages/sklearn/cluster/_kmeans.py:870: FutureWarning: The default value of `n_init` will change from 10 to 'auto' in 1.4. Set the value of `n_init` explicitly to suppress the warning\n",
            "  warnings.warn(\n",
            "/usr/local/lib/python3.10/dist-packages/sklearn/cluster/_kmeans.py:870: FutureWarning: The default value of `n_init` will change from 10 to 'auto' in 1.4. Set the value of `n_init` explicitly to suppress the warning\n",
            "  warnings.warn(\n",
            "/usr/local/lib/python3.10/dist-packages/sklearn/cluster/_kmeans.py:870: FutureWarning: The default value of `n_init` will change from 10 to 'auto' in 1.4. Set the value of `n_init` explicitly to suppress the warning\n",
            "  warnings.warn(\n",
            "/usr/local/lib/python3.10/dist-packages/sklearn/cluster/_kmeans.py:870: FutureWarning: The default value of `n_init` will change from 10 to 'auto' in 1.4. Set the value of `n_init` explicitly to suppress the warning\n",
            "  warnings.warn(\n",
            "/usr/local/lib/python3.10/dist-packages/sklearn/cluster/_kmeans.py:870: FutureWarning: The default value of `n_init` will change from 10 to 'auto' in 1.4. Set the value of `n_init` explicitly to suppress the warning\n",
            "  warnings.warn(\n"
          ]
        },
        {
          "output_type": "display_data",
          "data": {
            "text/plain": [
              "<Figure size 800x550 with 2 Axes>"
            ],
            "image/png": "[encoded data removed]"
          },
          "metadata": {}
        },
        {
          "output_type": "execute_result",
          "data": {
            "text/plain": [
              "<Axes: title={'center': 'Distortion Score Elbow for KMeans Clustering'}, xlabel='k', ylabel='distortion score'>"
            ]
          },
          "metadata": {},
          "execution_count": 67
        }
      ]
    },
    {
      "cell_type": "code",
      "source": [
        "# Con las primeras 2 dimensiones, arroja hasta un 99%, cubriendo los datos casi por completo.\n",
        "pca = PCA(n_components=2)\n",
        "df1 = pca.fit_transform(df)\n",
        "pca.explained_variance_ratio_.cumsum() # Calculamos las varianzas acumuladas explicadas\n"
      ],
      "metadata": {
        "colab": {
          "base_uri": "https://localhost:8080/"
        },
        "id": "sQpFuVOXJX9V",
        "outputId": "124fb63e-3de0-47b8-93a4-eeeff52f7359"
      },
      "execution_count": null,
      "outputs": [
        {
          "output_type": "execute_result",
          "data": {
            "text/plain": [
              "array([0.95543853, 0.99999998])"
            ]
          },
          "metadata": {},
          "execution_count": 69
        }
      ]
    },
    {
      "cell_type": "code",
      "source": [
        "df1.shape"
      ],
      "metadata": {
        "colab": {
          "base_uri": "https://localhost:8080/"
        },
        "id": "9XoXPfO_1lA_",
        "outputId": "866cbcd1-4b70-4ce5-bc6d-241d42a8e3bf"
      },
      "execution_count": null,
      "outputs": [
        {
          "output_type": "execute_result",
          "data": {
            "text/plain": [
              "(500, 2)"
            ]
          },
          "metadata": {},
          "execution_count": 70
        }
      ]
    },
    {
      "cell_type": "code",
      "source": [
        "# Clustering jerárquico aglomerativo\n",
        "hc = AgglomerativeClustering(n_clusters = 3, metric=\"euclidean\", linkage=\"ward\")\n",
        "predicciones_hc = hc.fit_predict(df1)\n",
        "predicciones_hc"
      ],
      "metadata": {
        "colab": {
          "base_uri": "https://localhost:8080/"
        },
        "id": "z4_vTKi4J20y",
        "outputId": "c25069fb-5a0b-4ed7-8b5f-2ab369484bc1"
      },
      "execution_count": null,
      "outputs": [
        {
          "output_type": "execute_result",
          "data": {
            "text/plain": [
              "array([2, 0, 1, 2, 2, 0, 0, 0, 0, 0, 1, 0, 2, 2, 0, 0, 0, 2, 1, 0, 0, 1,\n",
              "       0, 2, 0, 2, 0, 2, 2, 2, 2, 0, 1, 0, 2, 0, 0, 2, 2, 0, 2, 0, 2, 0,\n",
              "       2, 2, 2, 1, 0, 0, 0, 0, 2, 2, 0, 0, 0, 0, 0, 2, 2, 0, 0, 2, 0, 0,\n",
              "       2, 0, 2, 0, 1, 0, 0, 0, 0, 0, 2, 2, 2, 1, 0, 0, 0, 0, 1, 0, 2, 2,\n",
              "       0, 1, 0, 1, 0, 0, 0, 2, 2, 2, 1, 0, 2, 0, 0, 0, 2, 1, 0, 0, 0, 0,\n",
              "       1, 0, 2, 0, 0, 2, 0, 2, 2, 0, 2, 1, 2, 0, 2, 2, 0, 2, 0, 0, 2, 0,\n",
              "       2, 1, 0, 2, 0, 0, 2, 0, 1, 0, 2, 0, 1, 0, 1, 2, 0, 0, 0, 2, 0, 0,\n",
              "       2, 1, 0, 0, 0, 0, 2, 0, 2, 0, 2, 0, 0, 2, 1, 0, 0, 0, 2, 0, 2, 1,\n",
              "       2, 1, 0, 2, 0, 0, 0, 0, 1, 0, 0, 0, 0, 0, 0, 2, 0, 0, 0, 0, 0, 1,\n",
              "       2, 2, 0, 2, 1, 2, 0, 0, 0, 1, 0, 0, 1, 2, 1, 2, 0, 2, 0, 0, 2, 0,\n",
              "       0, 0, 0, 0, 2, 0, 0, 2, 1, 1, 1, 0, 2, 0, 0, 1, 0, 1, 0, 0, 0, 0,\n",
              "       2, 0, 0, 0, 0, 2, 0, 0, 2, 0, 0, 0, 0, 1, 0, 0, 2, 0, 0, 2, 2, 0,\n",
              "       2, 0, 0, 0, 0, 0, 2, 1, 0, 0, 2, 0, 0, 0, 1, 2, 2, 1, 1, 1, 2, 0,\n",
              "       0, 0, 0, 2, 1, 0, 0, 0, 2, 0, 2, 0, 1, 0, 2, 0, 2, 2, 0, 0, 1, 2,\n",
              "       0, 0, 0, 2, 1, 0, 2, 2, 1, 2, 2, 1, 0, 0, 0, 0, 0, 1, 0, 0, 0, 1,\n",
              "       0, 2, 2, 0, 0, 0, 0, 0, 0, 0, 0, 1, 2, 0, 2, 2, 0, 0, 0, 0, 2, 0,\n",
              "       0, 1, 0, 2, 0, 0, 0, 0, 2, 0, 2, 0, 0, 2, 2, 0, 2, 0, 0, 0, 0, 1,\n",
              "       0, 0, 2, 2, 2, 2, 0, 2, 0, 0, 1, 1, 0, 1, 1, 0, 0, 2, 1, 0, 0, 2,\n",
              "       1, 2, 0, 1, 0, 0, 0, 0, 0, 0, 0, 0, 0, 2, 0, 0, 0, 1, 0, 1, 0, 0,\n",
              "       2, 2, 2, 0, 1, 0, 1, 0, 1, 0, 2, 2, 0, 0, 0, 0, 0, 0, 1, 2, 2, 0,\n",
              "       0, 0, 0, 0, 0, 2, 0, 0, 0, 2, 2, 2, 2, 0, 0, 2, 0, 0, 0, 2, 2, 0,\n",
              "       0, 0, 0, 0, 2, 2, 0, 2, 0, 0, 0, 2, 0, 2, 0, 0, 1, 1, 0, 0, 0, 0,\n",
              "       0, 0, 2, 2, 0, 0, 0, 2, 0, 0, 1, 2, 0, 1, 2, 0])"
            ]
          },
          "metadata": {},
          "execution_count": 71
        }
      ]
    },
    {
      "cell_type": "code",
      "source": [
        "np.unique(predicciones_hc, return_counts=True)"
      ],
      "metadata": {
        "colab": {
          "base_uri": "https://localhost:8080/"
        },
        "id": "c7xdWzyNKtlt",
        "outputId": "b263470e-53d6-4a6e-b672-d1a98a4b4b37"
      },
      "execution_count": null,
      "outputs": [
        {
          "output_type": "execute_result",
          "data": {
            "text/plain": [
              "(array([0, 1, 2]), array([288,  68, 144]))"
            ]
          },
          "metadata": {},
          "execution_count": 72
        }
      ]
    },
    {
      "cell_type": "code",
      "source": [
        "# Creando un gráfico de dispersión para cada cluster\n",
        "plt.scatter(df1[predicciones_hc == 0,0], df1[predicciones_hc == 0,1], s=100, marker='.', c=\"purple\", label=\"Cluster 0\")\n",
        "plt.scatter(df1[predicciones_hc == 1,0], df1[predicciones_hc == 1,1], s=100, marker='.', c=\"black\", label=\"Cluster 1\")\n",
        "plt.scatter(df1[predicciones_hc == 2,0], df1[predicciones_hc == 2,1], s=100, marker='.', c=\"pink\", label=\"Cluster 2\")\n",
        "plt.title('Customers-Cluster')\n",
        "plt.legend()\n",
        "plt.show()"
      ],
      "metadata": {
        "colab": {
          "base_uri": "https://localhost:8080/",
          "height": 504
        },
        "id": "V9rejw1jLaUq",
        "outputId": "87d31dfe-57f2-4421-bd2c-fa6033ed320d"
      },
      "execution_count": null,
      "outputs": [
        {
          "output_type": "display_data",
          "data": {
            "text/plain": [
              "<Figure size 800x550 with 1 Axes>"
            ],
            "image/png": "[encoded data removed]"
          },
          "metadata": {}
        }
      ]
    },
    {
      "cell_type": "code",
      "source": [
        "from sklearn.metrics import calinski_harabasz_score\n",
        "ch_score = calinski_harabasz_score(df1, predicciones_hc) #No usa el parámetro metric.\n",
        "print(f'El coeficiente del índice Calinski-Harabasz es de {ch_score}.')"
      ],
      "metadata": {
        "colab": {
          "base_uri": "https://localhost:8080/"
        },
        "id": "hLi_Wyi7oIwH",
        "outputId": "31de9d83-239d-42f1-b939-a23700394141"
      },
      "execution_count": null,
      "outputs": [
        {
          "output_type": "stream",
          "name": "stdout",
          "text": [
            "El coeficiente del índice Calinski-Harabasz es de 749.9757101508261.\n"
          ]
        }
      ]
    },
    {
      "cell_type": "markdown",
      "source": [
        " Para el estudio de caso, es necesario dividir a los clientes en grupos más pequeños y poder ofrecer un nuevo producto., para esto se utilizo el visualizador de codo para determinar el número óptimo de clusters, que es el numero de grupos en el que se va a segregar a los clientes; el cual dio como resultado 3.\n",
        "\n",
        " Ya teniendo el numero de clusters, se realiza un PCA (Análisis de componentes principales), que es la reducción de la dimensionalidad de la base de datos, es decir, si la base datos consta de 7 columnas (dimensiones) se realiza un PCA para determinar el numero de dimensiones con las cual es más óptimo trabjar, en este caso fue las primeras 2 dimensiones, ya que, arroja hasta un 99% cubriendo los datos casi por completo, y graficando de manera correcta.\n",
        "\n",
        " Posteriormente se hace un Clustering Jerárquico Aglomerativo, prediciendo a que segmento corresponderá cada cliente. Adicional, se puede observar la visualizacion de la predicción de los clientes segmentados.\n",
        "\n",
        "Finalmente, se utiliza Índice Calinski-Harabasz para poder detenerminar la eficiencia del modelo de clustering, en este caso a mayor cantidad de dicho indice, los clusteres estaran mejor definidos."
      ],
      "metadata": {
        "id": "9Vh1unUG4Vj_"
      }
    },
    {
      "cell_type": "code",
      "source": [
        "df_newcostumer = pd.read_csv('/content/new_costumer.csv')\n",
        "df.head()"
      ],
      "metadata": {
        "colab": {
          "base_uri": "https://localhost:8080/",
          "height": 206
        },
        "id": "AxO4qIDw-IAM",
        "outputId": "977c01ce-0810-41ed-f60e-a234ea3fa0f1"
      },
      "execution_count": null,
      "outputs": [
        {
          "output_type": "execute_result",
          "data": {
            "text/plain": [
              "    Salario  Credito_tipo_1  Credito_tipo_2  Limite_TC  Tiempo_cliente  \\\n",
              "0  19028.02               1               0   18845.91             0.0   \n",
              "1  17004.81               1               0   16421.36             0.0   \n",
              "2  12973.54               1               0   57295.44             9.6   \n",
              "3  13995.43               0               0   23556.17             7.7   \n",
              "4  13155.66               0               1   61073.59            10.2   \n",
              "\n",
              "   Producto_ofrecido  Tipo_de_cliente  \n",
              "0                  1                3  \n",
              "1                  0                2  \n",
              "2                  1                2  \n",
              "3                  0                3  \n",
              "4                  1                0  "
            ],
            "text/html": [
              "\n",
              "  <div id=\"df-89ee443f-fd04-4524-9255-e4e32070db44\">\n",
              "    <div class=\"colab-df-container\">\n",
              "      <div>\n",
              "<style scoped>\n",
              "    .dataframe tbody tr th:only-of-type {\n",
              "        vertical-align: middle;\n",
              "    }\n",
              "\n",
              "    .dataframe tbody tr th {\n",
              "        vertical-align: top;\n",
              "    }\n",
              "\n",
              "    .dataframe thead th {\n",
              "        text-align: right;\n",
              "    }\n",
              "</style>\n",
              "<table border=\"1\" class=\"dataframe\">\n",
              "  <thead>\n",
              "    <tr style=\"text-align: right;\">\n",
              "      <th></th>\n",
              "      <th>Salario</th>\n",
              "      <th>Credito_tipo_1</th>\n",
              "      <th>Credito_tipo_2</th>\n",
              "      <th>Limite_TC</th>\n",
              "      <th>Tiempo_cliente</th>\n",
              "      <th>Producto_ofrecido</th>\n",
              "      <th>Tipo_de_cliente</th>\n",
              "    </tr>\n",
              "  </thead>\n",
              "  <tbody>\n",
              "    <tr>\n",
              "      <th>0</th>\n",
              "      <td>19028.02</td>\n",
              "      <td>1</td>\n",
              "      <td>0</td>\n",
              "      <td>18845.91</td>\n",
              "      <td>0.0</td>\n",
              "      <td>1</td>\n",
              "      <td>3</td>\n",
              "    </tr>\n",
              "    <tr>\n",
              "      <th>1</th>\n",
              "      <td>17004.81</td>\n",
              "      <td>1</td>\n",
              "      <td>0</td>\n",
              "      <td>16421.36</td>\n",
              "      <td>0.0</td>\n",
              "      <td>0</td>\n",
              "      <td>2</td>\n",
              "    </tr>\n",
              "    <tr>\n",
              "      <th>2</th>\n",
              "      <td>12973.54</td>\n",
              "      <td>1</td>\n",
              "      <td>0</td>\n",
              "      <td>57295.44</td>\n",
              "      <td>9.6</td>\n",
              "      <td>1</td>\n",
              "      <td>2</td>\n",
              "    </tr>\n",
              "    <tr>\n",
              "      <th>3</th>\n",
              "      <td>13995.43</td>\n",
              "      <td>0</td>\n",
              "      <td>0</td>\n",
              "      <td>23556.17</td>\n",
              "      <td>7.7</td>\n",
              "      <td>0</td>\n",
              "      <td>3</td>\n",
              "    </tr>\n",
              "    <tr>\n",
              "      <th>4</th>\n",
              "      <td>13155.66</td>\n",
              "      <td>0</td>\n",
              "      <td>1</td>\n",
              "      <td>61073.59</td>\n",
              "      <td>10.2</td>\n",
              "      <td>1</td>\n",
              "      <td>0</td>\n",
              "    </tr>\n",
              "  </tbody>\n",
              "</table>\n",
              "</div>\n",
              "      <button class=\"colab-df-convert\" onclick=\"convertToInteractive('df-89ee443f-fd04-4524-9255-e4e32070db44')\"\n",
              "              title=\"Convert this dataframe to an interactive table.\"\n",
              "              style=\"display:none;\">\n",
              "        \n",
              "  <svg xmlns=\"http://www.w3.org/2000/svg\" height=\"24px\"viewBox=\"0 0 24 24\"\n",
              "       width=\"24px\">\n",
              "    <path d=\"M0 0h24v24H0V0z\" fill=\"none\"/>\n",
              "    <path d=\"M18.56 5.44l.94 2.06.94-2.06 2.06-.94-2.06-.94-.94-2.06-.94 2.06-2.06.94zm-11 1L8.5 8.5l.94-2.06 2.06-.94-2.06-.94L8.5 2.5l-.94 2.06-2.06.94zm10 10l.94 2.06.94-2.06 2.06-.94-2.06-.94-.94-2.06-.94 2.06-2.06.94z\"/><path d=\"M17.41 7.96l-1.37-1.37c-.4-.4-.92-.59-1.43-.59-.52 0-1.04.2-1.43.59L10.3 9.45l-7.72 7.72c-.78.78-.78 2.05 0 2.83L4 21.41c.39.39.9.59 1.41.59.51 0 1.02-.2 1.41-.59l7.78-7.78 2.81-2.81c.8-.78.8-2.07 0-2.86zM5.41 20L4 18.59l7.72-7.72 1.47 1.35L5.41 20z\"/>\n",
              "  </svg>\n",
              "      </button>\n",
              "      \n",
              "  <style>\n",
              "    .colab-df-container {\n",
              "      display:flex;\n",
              "      flex-wrap:wrap;\n",
              "      gap: 12px;\n",
              "    }\n",
              "\n",
              "    .colab-df-convert {\n",
              "      background-color: #E8F0FE;\n",
              "      border: none;\n",
              "      border-radius: 50%;\n",
              "      cursor: pointer;\n",
              "      display: none;\n",
              "      fill: #1967D2;\n",
              "      height: 32px;\n",
              "      padding: 0 0 0 0;\n",
              "      width: 32px;\n",
              "    }\n",
              "\n",
              "    .colab-df-convert:hover {\n",
              "      background-color: #E2EBFA;\n",
              "      box-shadow: 0px 1px 2px rgba(60, 64, 67, 0.3), 0px 1px 3px 1px rgba(60, 64, 67, 0.15);\n",
              "      fill: #174EA6;\n",
              "    }\n",
              "\n",
              "    [theme=dark] .colab-df-convert {\n",
              "      background-color: #3B4455;\n",
              "      fill: #D2E3FC;\n",
              "    }\n",
              "\n",
              "    [theme=dark] .colab-df-convert:hover {\n",
              "      background-color: #434B5C;\n",
              "      box-shadow: 0px 1px 3px 1px rgba(0, 0, 0, 0.15);\n",
              "      filter: drop-shadow(0px 1px 2px rgba(0, 0, 0, 0.3));\n",
              "      fill: #FFFFFF;\n",
              "    }\n",
              "  </style>\n",
              "\n",
              "      <script>\n",
              "        const buttonEl =\n",
              "          document.querySelector('#df-89ee443f-fd04-4524-9255-e4e32070db44 button.colab-df-convert');\n",
              "        buttonEl.style.display =\n",
              "          google.colab.kernel.accessAllowed ? 'block' : 'none';\n",
              "\n",
              "        async function convertToInteractive(key) {\n",
              "          const element = document.querySelector('#df-89ee443f-fd04-4524-9255-e4e32070db44');\n",
              "          const dataTable =\n",
              "            await google.colab.kernel.invokeFunction('convertToInteractive',\n",
              "                                                     [key], {});\n",
              "          if (!dataTable) return;\n",
              "\n",
              "          const docLinkHtml = 'Like what you see? Visit the ' +\n",
              "            '<a target=\"_blank\" href=https://colab.research.google.com/notebooks/data_table.ipynb>data table notebook</a>'\n",
              "            + ' to learn more about interactive tables.';\n",
              "          element.innerHTML = '';\n",
              "          dataTable['output_type'] = 'display_data';\n",
              "          await google.colab.output.renderOutput(dataTable, element);\n",
              "          const docLink = document.createElement('div');\n",
              "          docLink.innerHTML = docLinkHtml;\n",
              "          element.appendChild(docLink);\n",
              "        }\n",
              "      </script>\n",
              "    </div>\n",
              "  </div>\n",
              "  "
            ]
          },
          "metadata": {},
          "execution_count": 78
        }
      ]
    },
    {
      "cell_type": "code",
      "source": [
        "df_newcostumer.describe().T"
      ],
      "metadata": {
        "colab": {
          "base_uri": "https://localhost:8080/",
          "height": 269
        },
        "id": "D4JNFFQm-Z-0",
        "outputId": "44efd81d-4199-4aaa-b96d-6c1ff0d027e8"
      },
      "execution_count": null,
      "outputs": [
        {
          "output_type": "execute_result",
          "data": {
            "text/plain": [
              "                   count        mean           std      min         25%  \\\n",
              "Salario             50.0  13232.1144   5767.078320  -638.96   9783.8875   \n",
              "Credito_tipo_1      50.0      0.5200      0.504672     0.00      0.0000   \n",
              "Credito_tipo_2      50.0      0.5000      0.505076     0.00      0.0000   \n",
              "Limite_TC           50.0  38422.6698  20240.655015 -2756.45  22922.6175   \n",
              "Tiempo_cliente      50.0      2.9440      3.973338     0.00      0.0000   \n",
              "Producto_ofrecido   50.0      0.7000      0.462910     0.00      0.0000   \n",
              "Tipo_de_cliente     50.0      1.3800      1.122861     0.00      0.0000   \n",
              "\n",
              "                         50%         75%       max  \n",
              "Salario            12849.835  16788.6725  23890.65  \n",
              "Credito_tipo_1         1.000      1.0000      1.00  \n",
              "Credito_tipo_2         0.500      1.0000      1.00  \n",
              "Limite_TC          39054.305  52052.3200  83578.93  \n",
              "Tiempo_cliente         0.000      6.3500     11.30  \n",
              "Producto_ofrecido      1.000      1.0000      1.00  \n",
              "Tipo_de_cliente        1.000      2.0000      3.00  "
            ],
            "text/html": [
              "\n",
              "  <div id=\"df-c5841eef-0f27-4136-b978-52729c1222ef\">\n",
              "    <div class=\"colab-df-container\">\n",
              "      <div>\n",
              "<style scoped>\n",
              "    .dataframe tbody tr th:only-of-type {\n",
              "        vertical-align: middle;\n",
              "    }\n",
              "\n",
              "    .dataframe tbody tr th {\n",
              "        vertical-align: top;\n",
              "    }\n",
              "\n",
              "    .dataframe thead th {\n",
              "        text-align: right;\n",
              "    }\n",
              "</style>\n",
              "<table border=\"1\" class=\"dataframe\">\n",
              "  <thead>\n",
              "    <tr style=\"text-align: right;\">\n",
              "      <th></th>\n",
              "      <th>count</th>\n",
              "      <th>mean</th>\n",
              "      <th>std</th>\n",
              "      <th>min</th>\n",
              "      <th>25%</th>\n",
              "      <th>50%</th>\n",
              "      <th>75%</th>\n",
              "      <th>max</th>\n",
              "    </tr>\n",
              "  </thead>\n",
              "  <tbody>\n",
              "    <tr>\n",
              "      <th>Salario</th>\n",
              "      <td>50.0</td>\n",
              "      <td>13232.1144</td>\n",
              "      <td>5767.078320</td>\n",
              "      <td>-638.96</td>\n",
              "      <td>9783.8875</td>\n",
              "      <td>12849.835</td>\n",
              "      <td>16788.6725</td>\n",
              "      <td>23890.65</td>\n",
              "    </tr>\n",
              "    <tr>\n",
              "      <th>Credito_tipo_1</th>\n",
              "      <td>50.0</td>\n",
              "      <td>0.5200</td>\n",
              "      <td>0.504672</td>\n",
              "      <td>0.00</td>\n",
              "      <td>0.0000</td>\n",
              "      <td>1.000</td>\n",
              "      <td>1.0000</td>\n",
              "      <td>1.00</td>\n",
              "    </tr>\n",
              "    <tr>\n",
              "      <th>Credito_tipo_2</th>\n",
              "      <td>50.0</td>\n",
              "      <td>0.5000</td>\n",
              "      <td>0.505076</td>\n",
              "      <td>0.00</td>\n",
              "      <td>0.0000</td>\n",
              "      <td>0.500</td>\n",
              "      <td>1.0000</td>\n",
              "      <td>1.00</td>\n",
              "    </tr>\n",
              "    <tr>\n",
              "      <th>Limite_TC</th>\n",
              "      <td>50.0</td>\n",
              "      <td>38422.6698</td>\n",
              "      <td>20240.655015</td>\n",
              "      <td>-2756.45</td>\n",
              "      <td>22922.6175</td>\n",
              "      <td>39054.305</td>\n",
              "      <td>52052.3200</td>\n",
              "      <td>83578.93</td>\n",
              "    </tr>\n",
              "    <tr>\n",
              "      <th>Tiempo_cliente</th>\n",
              "      <td>50.0</td>\n",
              "      <td>2.9440</td>\n",
              "      <td>3.973338</td>\n",
              "      <td>0.00</td>\n",
              "      <td>0.0000</td>\n",
              "      <td>0.000</td>\n",
              "      <td>6.3500</td>\n",
              "      <td>11.30</td>\n",
              "    </tr>\n",
              "    <tr>\n",
              "      <th>Producto_ofrecido</th>\n",
              "      <td>50.0</td>\n",
              "      <td>0.7000</td>\n",
              "      <td>0.462910</td>\n",
              "      <td>0.00</td>\n",
              "      <td>0.0000</td>\n",
              "      <td>1.000</td>\n",
              "      <td>1.0000</td>\n",
              "      <td>1.00</td>\n",
              "    </tr>\n",
              "    <tr>\n",
              "      <th>Tipo_de_cliente</th>\n",
              "      <td>50.0</td>\n",
              "      <td>1.3800</td>\n",
              "      <td>1.122861</td>\n",
              "      <td>0.00</td>\n",
              "      <td>0.0000</td>\n",
              "      <td>1.000</td>\n",
              "      <td>2.0000</td>\n",
              "      <td>3.00</td>\n",
              "    </tr>\n",
              "  </tbody>\n",
              "</table>\n",
              "</div>\n",
              "      <button class=\"colab-df-convert\" onclick=\"convertToInteractive('df-c5841eef-0f27-4136-b978-52729c1222ef')\"\n",
              "              title=\"Convert this dataframe to an interactive table.\"\n",
              "              style=\"display:none;\">\n",
              "        \n",
              "  <svg xmlns=\"http://www.w3.org/2000/svg\" height=\"24px\"viewBox=\"0 0 24 24\"\n",
              "       width=\"24px\">\n",
              "    <path d=\"M0 0h24v24H0V0z\" fill=\"none\"/>\n",
              "    <path d=\"M18.56 5.44l.94 2.06.94-2.06 2.06-.94-2.06-.94-.94-2.06-.94 2.06-2.06.94zm-11 1L8.5 8.5l.94-2.06 2.06-.94-2.06-.94L8.5 2.5l-.94 2.06-2.06.94zm10 10l.94 2.06.94-2.06 2.06-.94-2.06-.94-.94-2.06-.94 2.06-2.06.94z\"/><path d=\"M17.41 7.96l-1.37-1.37c-.4-.4-.92-.59-1.43-.59-.52 0-1.04.2-1.43.59L10.3 9.45l-7.72 7.72c-.78.78-.78 2.05 0 2.83L4 21.41c.39.39.9.59 1.41.59.51 0 1.02-.2 1.41-.59l7.78-7.78 2.81-2.81c.8-.78.8-2.07 0-2.86zM5.41 20L4 18.59l7.72-7.72 1.47 1.35L5.41 20z\"/>\n",
              "  </svg>\n",
              "      </button>\n",
              "      \n",
              "  <style>\n",
              "    .colab-df-container {\n",
              "      display:flex;\n",
              "      flex-wrap:wrap;\n",
              "      gap: 12px;\n",
              "    }\n",
              "\n",
              "    .colab-df-convert {\n",
              "      background-color: #E8F0FE;\n",
              "      border: none;\n",
              "      border-radius: 50%;\n",
              "      cursor: pointer;\n",
              "      display: none;\n",
              "      fill: #1967D2;\n",
              "      height: 32px;\n",
              "      padding: 0 0 0 0;\n",
              "      width: 32px;\n",
              "    }\n",
              "\n",
              "    .colab-df-convert:hover {\n",
              "      background-color: #E2EBFA;\n",
              "      box-shadow: 0px 1px 2px rgba(60, 64, 67, 0.3), 0px 1px 3px 1px rgba(60, 64, 67, 0.15);\n",
              "      fill: #174EA6;\n",
              "    }\n",
              "\n",
              "    [theme=dark] .colab-df-convert {\n",
              "      background-color: #3B4455;\n",
              "      fill: #D2E3FC;\n",
              "    }\n",
              "\n",
              "    [theme=dark] .colab-df-convert:hover {\n",
              "      background-color: #434B5C;\n",
              "      box-shadow: 0px 1px 3px 1px rgba(0, 0, 0, 0.15);\n",
              "      filter: drop-shadow(0px 1px 2px rgba(0, 0, 0, 0.3));\n",
              "      fill: #FFFFFF;\n",
              "    }\n",
              "  </style>\n",
              "\n",
              "      <script>\n",
              "        const buttonEl =\n",
              "          document.querySelector('#df-c5841eef-0f27-4136-b978-52729c1222ef button.colab-df-convert');\n",
              "        buttonEl.style.display =\n",
              "          google.colab.kernel.accessAllowed ? 'block' : 'none';\n",
              "\n",
              "        async function convertToInteractive(key) {\n",
              "          const element = document.querySelector('#df-c5841eef-0f27-4136-b978-52729c1222ef');\n",
              "          const dataTable =\n",
              "            await google.colab.kernel.invokeFunction('convertToInteractive',\n",
              "                                                     [key], {});\n",
              "          if (!dataTable) return;\n",
              "\n",
              "          const docLinkHtml = 'Like what you see? Visit the ' +\n",
              "            '<a target=\"_blank\" href=https://colab.research.google.com/notebooks/data_table.ipynb>data table notebook</a>'\n",
              "            + ' to learn more about interactive tables.';\n",
              "          element.innerHTML = '';\n",
              "          dataTable['output_type'] = 'display_data';\n",
              "          await google.colab.output.renderOutput(dataTable, element);\n",
              "          const docLink = document.createElement('div');\n",
              "          docLink.innerHTML = docLinkHtml;\n",
              "          element.appendChild(docLink);\n",
              "        }\n",
              "      </script>\n",
              "    </div>\n",
              "  </div>\n",
              "  "
            ]
          },
          "metadata": {},
          "execution_count": 79
        }
      ]
    },
    {
      "cell_type": "code",
      "source": [
        "pca = PCA(n_components=2)\n",
        "df_newcostumer1 = pca.fit_transform(df_newcostumer)\n",
        "pca.explained_variance_ratio_.cumsum()"
      ],
      "metadata": {
        "colab": {
          "base_uri": "https://localhost:8080/"
        },
        "id": "3fS-KD1M-n5l",
        "outputId": "2a7dbfd0-5af3-40a0-d112-8fbd5b958c75"
      },
      "execution_count": null,
      "outputs": [
        {
          "output_type": "execute_result",
          "data": {
            "text/plain": [
              "array([0.95222838, 0.99999997])"
            ]
          },
          "metadata": {},
          "execution_count": 80
        }
      ]
    },
    {
      "cell_type": "code",
      "source": [
        "# Clustering jerárquico aglomerativo\n",
        "hc_newcustomer = AgglomerativeClustering(n_clusters = 3, metric=\"euclidean\", linkage=\"ward\")\n",
        "prediccioneshc_newcustomer = hc_newcustomer.fit_predict(df_newcostumer1)\n",
        "prediccioneshc_newcustomer"
      ],
      "metadata": {
        "colab": {
          "base_uri": "https://localhost:8080/"
        },
        "id": "tr7wC3_6-tf_",
        "outputId": "6d5b31aa-6a70-4393-9b80-f352ecd1b7b7"
      },
      "execution_count": null,
      "outputs": [
        {
          "output_type": "execute_result",
          "data": {
            "text/plain": [
              "array([1, 1, 0, 1, 0, 2, 2, 0, 0, 0, 2, 1, 0, 1, 2, 2, 2, 1, 1, 1, 0, 1,\n",
              "       1, 1, 1, 0, 0, 0, 1, 2, 1, 1, 2, 0, 2, 1, 1, 2, 2, 1, 1, 1, 0, 0,\n",
              "       1, 0, 1, 2, 0, 2])"
            ]
          },
          "metadata": {},
          "execution_count": 83
        }
      ]
    },
    {
      "cell_type": "code",
      "source": [
        "np.unique(predicciones_hc, return_counts=True)"
      ],
      "metadata": {
        "colab": {
          "base_uri": "https://localhost:8080/"
        },
        "id": "bYerHjm5_Trx",
        "outputId": "6226d117-f7c9-4b6e-a33a-1bce31ecee15"
      },
      "execution_count": null,
      "outputs": [
        {
          "output_type": "execute_result",
          "data": {
            "text/plain": [
              "(array([0, 1, 2]), array([15, 22, 13]))"
            ]
          },
          "metadata": {},
          "execution_count": 85
        }
      ]
    },
    {
      "cell_type": "code",
      "source": [
        "# Creando un gráfico de dispersión para cada cluster\n",
        "plt.scatter(df_newcostumer1[prediccioneshc_newcustomer == 0,0], df_newcostumer1[prediccioneshc_newcustomer == 0,1], s=100, marker='.', c=\"red\", label=\"Cluster 0\")\n",
        "plt.scatter(df_newcostumer1[prediccioneshc_newcustomer == 1,0], df_newcostumer1[prediccioneshc_newcustomer == 1,1], s=100, marker='.', c=\"blue\", label=\"Cluster 1\")\n",
        "plt.scatter(df_newcostumer1[prediccioneshc_newcustomer == 2,0], df_newcostumer1[prediccioneshc_newcustomer == 2,1], s=100, marker='.', c=\"green\", label=\"Cluster 2\")\n",
        "plt.title('New Customers - Cluster')\n",
        "plt.legend()\n",
        "plt.show()"
      ],
      "metadata": {
        "colab": {
          "base_uri": "https://localhost:8080/",
          "height": 504
        },
        "id": "FbtDSlru_D_c",
        "outputId": "71ec2d31-0d0c-407e-8989-a3a917fc723b"
      },
      "execution_count": null,
      "outputs": [
        {
          "output_type": "display_data",
          "data": {
            "text/plain": [
              "<Figure size 800x550 with 1 Axes>"
            ],
            "image/png": "[encoded data removed]"
          },
          "metadata": {}
        }
      ]
    }
  ]
}